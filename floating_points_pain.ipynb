{
 "cells": [
  {
   "cell_type": "markdown",
   "metadata": {},
   "source": [
    "# Floats (and the limits of representation)"
   ]
  },
  {
   "cell_type": "code",
   "execution_count": null,
   "metadata": {},
   "outputs": [],
   "source": [
    "\n",
    "# Consider the following trivial math example\n",
    "\n",
    "a = 1.1\n",
    "b = 2.2\n",
    "\n",
    "print(type(a))\n",
    "print(type(b))"
   ]
  },
  {
   "cell_type": "markdown",
   "metadata": {},
   "source": [
    "## What results you would expect from \n",
    "```python\n",
    "\n",
    "c = a + b\n",
    "print(c)\n",
    "\n",
    "```"
   ]
  },
  {
   "cell_type": "code",
   "execution_count": null,
   "metadata": {},
   "outputs": [],
   "source": [
    "c = a + b\n",
    "print(c)"
   ]
  },
  {
   "cell_type": "markdown",
   "metadata": {},
   "source": [
    "\n",
    "# Weird = lets try the other way around\n",
    "\n",
    "a = 1.1\n",
    "b = 2.2\n",
    "\n",
    "d = a + b +b +b + a + 1.2\n",
    "print(d)\n",
    "type(d)"
   ]
  },
  {
   "cell_type": "code",
   "execution_count": null,
   "metadata": {},
   "outputs": [],
   "source": [
    "d - 1.1 - 3.3"
   ]
  },
  {
   "cell_type": "code",
   "execution_count": null,
   "metadata": {},
   "outputs": [],
   "source": [
    "# More surprising results\n",
    "\n",
    "result = 0.1 + 0.1 + 0.1 - 0.3\n",
    "#print(result)"
   ]
  },
  {
   "cell_type": "markdown",
   "metadata": {},
   "source": [
    "## There is another way floating points making computing hard to reason about"
   ]
  },
  {
   "cell_type": "markdown",
   "metadata": {},
   "source": [
    "![whale](./img/whale.jpg)"
   ]
  },
  {
   "cell_type": "code",
   "execution_count": null,
   "metadata": {},
   "outputs": [],
   "source": [
    "# Consider the following example\n",
    "smallish = 0.000000000000000000000000000000000000000000000000007\n",
    "bigish = 1.00000000000000000000000000000000000000000000000000001\n"
   ]
  },
  {
   "cell_type": "code",
   "execution_count": null,
   "metadata": {},
   "outputs": [],
   "source": [
    "res = smallish+bigish\n",
    "print(res)\n",
    "print(res == bigish)\n",
    "# What happened here?"
   ]
  },
  {
   "cell_type": "markdown",
   "metadata": {},
   "source": [
    "## Why does this happen? \n",
    "\n",
    "* **Our arithematic is based on base 10**\n",
    "\n",
    "![hands](./img/hands.webp)\n",
    "\n",
    "* Computer arithematic is based on binary base\n",
    "\n",
    "<pre>\n",
    "001 = 0 + 0 + 1 * 2 ^ 0\n",
    "010 = 0 + 1 * 2 ^ 1 + 0\n",
    "</pre>\n",
    "\n",
    "* But how do we represent in binary base the decimal number: 0.1 ?\n",
    "\n",
    "* Turns out it the binary equivalent of trying to represent 1/3 in the decimal base. "
   ]
  },
  {
   "cell_type": "markdown",
   "metadata": {},
   "source": [
    "## Decimal to the rescue"
   ]
  },
  {
   "cell_type": "markdown",
   "metadata": {},
   "source": [
    "Self described:\n",
    ">Decimal “is based on a floating-point model which was designed with people in mind, and necessarily has a paramount guiding principle – computers must provide an arithmetic that works in the same way as the arithmetic that people learn at school.”\n",
    "\n",
    "Other languages have similiar \"bigint\" modules"
   ]
  },
  {
   "cell_type": "code",
   "execution_count": null,
   "metadata": {},
   "outputs": [],
   "source": [
    "from decimal import Decimal\n",
    "\n",
    "a = Decimal('1.1')\n",
    "b = Decimal('2.2')\n",
    "\n",
    "a +b "
   ]
  },
  {
   "cell_type": "code",
   "execution_count": null,
   "metadata": {},
   "outputs": [],
   "source": [
    "# We can also make decimals out of floats (imagine we're parding an xlsx file)\n",
    "\n",
    "a = Decimal(1.13336)\n",
    "print(a)"
   ]
  },
  {
   "cell_type": "code",
   "execution_count": null,
   "metadata": {},
   "outputs": [],
   "source": [
    "# But to get something meaningful we need to control the number of places after the point\n",
    "\n",
    "a.quantize(Decimal('0.0001'))"
   ]
  },
  {
   "cell_type": "code",
   "execution_count": null,
   "metadata": {},
   "outputs": [],
   "source": [
    "# What happens when we need to control the rounding?\n",
    "\n",
    "from decimal import getcontext, ROUND_UP, ROUND_DOWN\n",
    "getcontext().rounding = ROUND_DOWN\n",
    "\n",
    "print(a.quantize(Decimal('0.0001')))"
   ]
  },
  {
   "cell_type": "markdown",
   "metadata": {},
   "source": [
    "### Basically wherever you're handling Money you should be using decimal (or bigint equivalent in other programming languages)"
   ]
  },
  {
   "cell_type": "markdown",
   "metadata": {},
   "source": [
    "# Read more:\n",
    "* [the decimal module](https://docs.python.org/3/library/decimal.html)\n",
    "* [the fractions module](https://docs.python.org/3/library/fractions.html)\n",
    "* [Floating point tutorial](https://docs.python.org/3/tutorial/floatingpoint.html)"
   ]
  }
 ],
 "metadata": {
  "kernelspec": {
   "display_name": "Python 3",
   "language": "python",
   "name": "python3"
  },
  "language_info": {
   "codemirror_mode": {
    "name": "ipython",
    "version": 3
   },
   "file_extension": ".py",
   "mimetype": "text/x-python",
   "name": "python",
   "nbconvert_exporter": "python",
   "pygments_lexer": "ipython3",
   "version": "3.8.1"
  }
 },
 "nbformat": 4,
 "nbformat_minor": 4
}
